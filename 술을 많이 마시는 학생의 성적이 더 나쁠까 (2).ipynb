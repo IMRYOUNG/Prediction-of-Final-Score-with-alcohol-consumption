{
 "cells": [
  {
   "cell_type": "markdown",
   "metadata": {},
   "source": [
    "# 술을 많이 마시는 학생의 성적이 더 나쁠까?"
   ]
  },
  {
   "cell_type": "markdown",
   "metadata": {},
   "source": [
    "모듈 임포트"
   ]
  },
  {
   "cell_type": "code",
   "execution_count": 1,
   "metadata": {},
   "outputs": [],
   "source": [
    "import pandas as pd\n",
    "import numpy as np\n",
    "\n",
    "import matplotlib.pyplot as plt\n",
    "import seaborn as sns\n",
    "\n",
    "\n",
    "%matplotlib inline"
   ]
  },
  {
   "cell_type": "markdown",
   "metadata": {},
   "source": [
    "csv자료 읽어오기(출처 : kaggle의 student-alcohol-consumption중 student-por.csv만 사용 )"
   ]
  },
  {
   "cell_type": "code",
   "execution_count": 2,
   "metadata": {},
   "outputs": [],
   "source": [
    "data = pd.read_csv('C:/Users/노임령/Desktop/dataCrawling_Final_Project/student-por.csv')"
   ]
  },
  {
   "cell_type": "code",
   "execution_count": 3,
   "metadata": {
    "scrolled": true
   },
   "outputs": [
    {
     "data": {
      "text/html": [
       "<div>\n",
       "<style scoped>\n",
       "    .dataframe tbody tr th:only-of-type {\n",
       "        vertical-align: middle;\n",
       "    }\n",
       "\n",
       "    .dataframe tbody tr th {\n",
       "        vertical-align: top;\n",
       "    }\n",
       "\n",
       "    .dataframe thead th {\n",
       "        text-align: right;\n",
       "    }\n",
       "</style>\n",
       "<table border=\"1\" class=\"dataframe\">\n",
       "  <thead>\n",
       "    <tr style=\"text-align: right;\">\n",
       "      <th></th>\n",
       "      <th>school</th>\n",
       "      <th>sex</th>\n",
       "      <th>age</th>\n",
       "      <th>address</th>\n",
       "      <th>famsize</th>\n",
       "      <th>Pstatus</th>\n",
       "      <th>Medu</th>\n",
       "      <th>Fedu</th>\n",
       "      <th>Mjob</th>\n",
       "      <th>Fjob</th>\n",
       "      <th>...</th>\n",
       "      <th>famrel</th>\n",
       "      <th>freetime</th>\n",
       "      <th>goout</th>\n",
       "      <th>Dalc</th>\n",
       "      <th>Walc</th>\n",
       "      <th>health</th>\n",
       "      <th>absences</th>\n",
       "      <th>G1</th>\n",
       "      <th>G2</th>\n",
       "      <th>G3</th>\n",
       "    </tr>\n",
       "  </thead>\n",
       "  <tbody>\n",
       "    <tr>\n",
       "      <td>0</td>\n",
       "      <td>GP</td>\n",
       "      <td>F</td>\n",
       "      <td>18</td>\n",
       "      <td>U</td>\n",
       "      <td>GT3</td>\n",
       "      <td>A</td>\n",
       "      <td>4</td>\n",
       "      <td>4</td>\n",
       "      <td>at_home</td>\n",
       "      <td>teacher</td>\n",
       "      <td>...</td>\n",
       "      <td>4</td>\n",
       "      <td>3</td>\n",
       "      <td>4</td>\n",
       "      <td>1</td>\n",
       "      <td>1</td>\n",
       "      <td>3</td>\n",
       "      <td>4</td>\n",
       "      <td>0</td>\n",
       "      <td>11</td>\n",
       "      <td>11</td>\n",
       "    </tr>\n",
       "    <tr>\n",
       "      <td>1</td>\n",
       "      <td>GP</td>\n",
       "      <td>F</td>\n",
       "      <td>17</td>\n",
       "      <td>U</td>\n",
       "      <td>GT3</td>\n",
       "      <td>T</td>\n",
       "      <td>1</td>\n",
       "      <td>1</td>\n",
       "      <td>at_home</td>\n",
       "      <td>other</td>\n",
       "      <td>...</td>\n",
       "      <td>5</td>\n",
       "      <td>3</td>\n",
       "      <td>3</td>\n",
       "      <td>1</td>\n",
       "      <td>1</td>\n",
       "      <td>3</td>\n",
       "      <td>2</td>\n",
       "      <td>9</td>\n",
       "      <td>11</td>\n",
       "      <td>11</td>\n",
       "    </tr>\n",
       "    <tr>\n",
       "      <td>2</td>\n",
       "      <td>GP</td>\n",
       "      <td>F</td>\n",
       "      <td>15</td>\n",
       "      <td>U</td>\n",
       "      <td>LE3</td>\n",
       "      <td>T</td>\n",
       "      <td>1</td>\n",
       "      <td>1</td>\n",
       "      <td>at_home</td>\n",
       "      <td>other</td>\n",
       "      <td>...</td>\n",
       "      <td>4</td>\n",
       "      <td>3</td>\n",
       "      <td>2</td>\n",
       "      <td>2</td>\n",
       "      <td>3</td>\n",
       "      <td>3</td>\n",
       "      <td>6</td>\n",
       "      <td>12</td>\n",
       "      <td>13</td>\n",
       "      <td>12</td>\n",
       "    </tr>\n",
       "    <tr>\n",
       "      <td>3</td>\n",
       "      <td>GP</td>\n",
       "      <td>F</td>\n",
       "      <td>15</td>\n",
       "      <td>U</td>\n",
       "      <td>GT3</td>\n",
       "      <td>T</td>\n",
       "      <td>4</td>\n",
       "      <td>2</td>\n",
       "      <td>health</td>\n",
       "      <td>services</td>\n",
       "      <td>...</td>\n",
       "      <td>3</td>\n",
       "      <td>2</td>\n",
       "      <td>2</td>\n",
       "      <td>1</td>\n",
       "      <td>1</td>\n",
       "      <td>5</td>\n",
       "      <td>0</td>\n",
       "      <td>14</td>\n",
       "      <td>14</td>\n",
       "      <td>14</td>\n",
       "    </tr>\n",
       "    <tr>\n",
       "      <td>4</td>\n",
       "      <td>GP</td>\n",
       "      <td>F</td>\n",
       "      <td>16</td>\n",
       "      <td>U</td>\n",
       "      <td>GT3</td>\n",
       "      <td>T</td>\n",
       "      <td>3</td>\n",
       "      <td>3</td>\n",
       "      <td>other</td>\n",
       "      <td>other</td>\n",
       "      <td>...</td>\n",
       "      <td>4</td>\n",
       "      <td>3</td>\n",
       "      <td>2</td>\n",
       "      <td>1</td>\n",
       "      <td>2</td>\n",
       "      <td>5</td>\n",
       "      <td>0</td>\n",
       "      <td>11</td>\n",
       "      <td>13</td>\n",
       "      <td>13</td>\n",
       "    </tr>\n",
       "  </tbody>\n",
       "</table>\n",
       "<p>5 rows × 33 columns</p>\n",
       "</div>"
      ],
      "text/plain": [
       "  school sex  age address famsize Pstatus  Medu  Fedu     Mjob      Fjob  ...  \\\n",
       "0     GP   F   18       U     GT3       A     4     4  at_home   teacher  ...   \n",
       "1     GP   F   17       U     GT3       T     1     1  at_home     other  ...   \n",
       "2     GP   F   15       U     LE3       T     1     1  at_home     other  ...   \n",
       "3     GP   F   15       U     GT3       T     4     2   health  services  ...   \n",
       "4     GP   F   16       U     GT3       T     3     3    other     other  ...   \n",
       "\n",
       "  famrel freetime  goout  Dalc  Walc health absences  G1  G2  G3  \n",
       "0      4        3      4     1     1      3        4   0  11  11  \n",
       "1      5        3      3     1     1      3        2   9  11  11  \n",
       "2      4        3      2     2     3      3        6  12  13  12  \n",
       "3      3        2      2     1     1      5        0  14  14  14  \n",
       "4      4        3      2     1     2      5        0  11  13  13  \n",
       "\n",
       "[5 rows x 33 columns]"
      ]
     },
     "execution_count": 3,
     "metadata": {},
     "output_type": "execute_result"
    }
   ],
   "source": [
    "data.head()"
   ]
  },
  {
   "cell_type": "code",
   "execution_count": 5,
   "metadata": {},
   "outputs": [
    {
     "name": "stdout",
     "output_type": "stream",
     "text": [
      "(649, 33)\n"
     ]
    }
   ],
   "source": [
    "print(np.shape(data))"
   ]
  },
  {
   "cell_type": "markdown",
   "metadata": {},
   "source": [
    "전체 649개의 데이터이며 33개의 열로 구성되어있음을 알 수 있다."
   ]
  },
  {
   "cell_type": "code",
   "execution_count": 6,
   "metadata": {},
   "outputs": [
    {
     "name": "stdout",
     "output_type": "stream",
     "text": [
      "<class 'pandas.core.frame.DataFrame'>\n",
      "RangeIndex: 649 entries, 0 to 648\n",
      "Data columns (total 33 columns):\n",
      "school        649 non-null object\n",
      "sex           649 non-null object\n",
      "age           649 non-null int64\n",
      "address       649 non-null object\n",
      "famsize       649 non-null object\n",
      "Pstatus       649 non-null object\n",
      "Medu          649 non-null int64\n",
      "Fedu          649 non-null int64\n",
      "Mjob          649 non-null object\n",
      "Fjob          649 non-null object\n",
      "reason        649 non-null object\n",
      "guardian      649 non-null object\n",
      "traveltime    649 non-null int64\n",
      "studytime     649 non-null int64\n",
      "failures      649 non-null int64\n",
      "schoolsup     649 non-null object\n",
      "famsup        649 non-null object\n",
      "paid          649 non-null object\n",
      "activities    649 non-null object\n",
      "nursery       649 non-null object\n",
      "higher        649 non-null object\n",
      "internet      649 non-null object\n",
      "romantic      649 non-null object\n",
      "famrel        649 non-null int64\n",
      "freetime      649 non-null int64\n",
      "goout         649 non-null int64\n",
      "Dalc          649 non-null int64\n",
      "Walc          649 non-null int64\n",
      "health        649 non-null int64\n",
      "absences      649 non-null int64\n",
      "G1            649 non-null int64\n",
      "G2            649 non-null int64\n",
      "G3            649 non-null int64\n",
      "dtypes: int64(16), object(17)\n",
      "memory usage: 167.4+ KB\n"
     ]
    }
   ],
   "source": [
    "data.info()"
   ]
  },
  {
   "cell_type": "markdown",
   "metadata": {},
   "source": [
    "### Visualizations##"
   ]
  },
  {
   "cell_type": "markdown",
   "metadata": {},
   "source": [
    "#### Sex"
   ]
  },
  {
   "cell_type": "code",
   "execution_count": 7,
   "metadata": {},
   "outputs": [
    {
     "data": {
      "image/png": "[encoded data removed]",
      "text/plain": [
       "<Figure size 288x288 with 1 Axes>"
      ]
     },
     "metadata": {},
     "output_type": "display_data"
    }
   ],
   "source": [
    "fig, ax = plt.subplots(figsize=(4, 4))\n",
    "plt.pie(data['sex'].value_counts().tolist(), \n",
    "        labels=['Female', 'Male'], colors=['red', 'blue'], \n",
    "        autopct='%1.1f%%', startangle=90)\n",
    "axis = plt.axis('equal')"
   ]
  },
  {
   "cell_type": "markdown",
   "metadata": {},
   "source": [
    "#### Weekly study time"
   ]
  },
  {
   "cell_type": "code",
   "execution_count": 8,
   "metadata": {},
   "outputs": [
    {
     "data": {
      "image/png": "[encoded data removed]",
      "text/plain": [
       "<Figure size 288x288 with 1 Axes>"
      ]
     },
     "metadata": {},
     "output_type": "display_data"
    }
   ],
   "source": [
    "f, ax = plt.subplots(figsize=(4, 4))\n",
    "plt.pie(data['studytime'].value_counts().tolist(), \n",
    "        labels=['2 to 5 hours', 'less than \\n 2hours', '5 to 10 hours', 'morethan \\n 10hours'], \n",
    "        autopct='%1.1f%%', startangle=0)\n",
    "axis = plt.axis('equal')"
   ]
  },
  {
   "cell_type": "markdown",
   "metadata": {},
   "source": [
    "#### Romantic Relationship"
   ]
  },
  {
   "cell_type": "code",
   "execution_count": 9,
   "metadata": {},
   "outputs": [
    {
     "data": {
      "image/png": "[encoded data removed]",
      "text/plain": [
       "<Figure size 288x288 with 1 Axes>"
      ]
     },
     "metadata": {},
     "output_type": "display_data"
    }
   ],
   "source": [
    "f, ax = plt.subplots(figsize=(4, 4))\n",
    "plt.pie(data['romantic'].value_counts().tolist(), \n",
    "        labels=['No', 'Yes'], autopct='%1.1f%%', startangle=90)\n",
    "axis = plt.axis('equal')"
   ]
  },
  {
   "cell_type": "markdown",
   "metadata": {},
   "source": [
    "#### Age"
   ]
  },
  {
   "cell_type": "code",
   "execution_count": 10,
   "metadata": {},
   "outputs": [
    {
     "data": {
      "image/png": "[encoded data removed]",
      "text/plain": [
       "<Figure size 360x288 with 1 Axes>"
      ]
     },
     "metadata": {
      "needs_background": "light"
     },
     "output_type": "display_data"
    }
   ],
   "source": [
    "fig, ax = plt.subplots(figsize=(5, 4))\n",
    "sns.distplot(data['age'],  \n",
    "             hist_kws={\"alpha\": 1, \"color\": \"blue\"}, \n",
    "             kde=False, bins=8)\n",
    "ax = ax.set(ylabel=\"Count\", xlabel=\"Age\")"
   ]
  },
  {
   "cell_type": "markdown",
   "metadata": {},
   "source": [
    "#### Alcohol Consumption and other features"
   ]
  },
  {
   "cell_type": "markdown",
   "metadata": {},
   "source": [
    "##### 알콜 소비량과 건강에 대한 지수의 속성은 아래와 같다.\n",
    "#Workday alcohol consumption: number from 1 (very low) to 5 (very high)\n",
    "#Weekend alcohol consumption: number from 1 (very low) to 5 (very high)\n",
    "#Health - current health status: number from 1 (very bad) to 5 (very good) "
   ]
  },
  {
   "cell_type": "markdown",
   "metadata": {},
   "source": [
    "#### Weekend Alcohol Consumption"
   ]
  },
  {
   "cell_type": "code",
   "execution_count": 11,
   "metadata": {},
   "outputs": [
    {
     "data": {
      "image/png": "[encoded data removed]",
      "text/plain": [
       "<Figure size 360x360 with 1 Axes>"
      ]
     },
     "metadata": {
      "needs_background": "light"
     },
     "output_type": "display_data"
    }
   ],
   "source": [
    "fig, ax = plt.subplots(figsize=(5, 5))\n",
    "sns.distplot(data['Walc'],  \n",
    "             hist_kws={\"alpha\": 1, \"color\": \"blue\"}, \n",
    "             kde=False, bins=4)\n",
    "ax = ax.set(ylabel=\"Students\", xlabel=\"Weekend Alcohol Consumption\")"
   ]
  },
  {
   "cell_type": "markdown",
   "metadata": {},
   "source": [
    "#### Alcohol Consumption and Health"
   ]
  },
  {
   "cell_type": "code",
   "execution_count": 12,
   "metadata": {},
   "outputs": [
    {
     "name": "stderr",
     "output_type": "stream",
     "text": [
      "D:\\Anaconda3\\lib\\site-packages\\seaborn\\categorical.py:3666: UserWarning: The `factorplot` function has been renamed to `catplot`. The original name will be removed in a future release. Please update your code. Note that the default `kind` in `factorplot` (`'point'`) has changed `'strip'` in `catplot`.\n",
      "  warnings.warn(msg)\n"
     ]
    },
    {
     "data": {
      "text/plain": [
       "<seaborn.axisgrid.FacetGrid at 0x28a2c1236c8>"
      ]
     },
     "execution_count": 12,
     "metadata": {},
     "output_type": "execute_result"
    },
    {
     "data": {
      "image/png": "[encoded data removed]",
      "text/plain": [
       "<Figure size 404.625x360 with 1 Axes>"
      ]
     },
     "metadata": {
      "needs_background": "light"
     },
     "output_type": "display_data"
    },
    {
     "data": {
      "image/png": "[encoded data removed]",
      "text/plain": [
       "<Figure size 404.625x360 with 1 Axes>"
      ]
     },
     "metadata": {
      "needs_background": "light"
     },
     "output_type": "display_data"
    }
   ],
   "source": [
    "plot1 = sns.factorplot(x=\"Walc\", y=\"health\", hue=\"sex\", data=data)\n",
    "plot1.set(ylabel=\"Health\", xlabel=\"Weekend Alcohol Consumption\")\n",
    "\n",
    "plot2 = sns.factorplot(x=\"Dalc\", y=\"health\", hue=\"sex\", data=data)\n",
    "plot2.set(ylabel=\"Health\", xlabel=\"Workday Alcohol Consumption\")"
   ]
  },
  {
   "cell_type": "markdown",
   "metadata": {},
   "source": [
    "##### *알콜소비량이 많으면 건강이 나쁠 것 같다는 일반적인 상식과 다르게 알콜 소비량이 많을수록 더 건강했다.\n",
    "이런 경향은 5단계의 여성에게 두드러졌다"
   ]
  },
  {
   "cell_type": "markdown",
   "metadata": {},
   "source": [
    "#### Alcohol Consumption and Final Grade"
   ]
  },
  {
   "cell_type": "markdown",
   "metadata": {},
   "source": [
    "#### 성적에 대한 지수속성은 아래와 같다.\n",
    "Final grade: number from 0 to 20"
   ]
  },
  {
   "cell_type": "code",
   "execution_count": 13,
   "metadata": {},
   "outputs": [
    {
     "data": {
      "text/plain": [
       "<seaborn.axisgrid.FacetGrid at 0x28a2c30f608>"
      ]
     },
     "execution_count": 13,
     "metadata": {},
     "output_type": "execute_result"
    },
    {
     "data": {
      "image/png": "[encoded data removed]",
      "text/plain": [
       "<Figure size 360x360 with 1 Axes>"
      ]
     },
     "metadata": {
      "needs_background": "light"
     },
     "output_type": "display_data"
    },
    {
     "data": {
      "image/png": "[encoded data removed]",
      "text/plain": [
       "<Figure size 360x360 with 1 Axes>"
      ]
     },
     "metadata": {
      "needs_background": "light"
     },
     "output_type": "display_data"
    }
   ],
   "source": [
    "plot1 = sns.factorplot(x=\"G3\", y=\"Walc\", data=data)\n",
    "plot1.set(ylabel=\"Weekend Alcohol Consumption\", xlabel=\"Final Grade\")\n",
    "\n",
    "plot2 = sns.factorplot(x=\"G3\", y=\"Dalc\", data=data)\n",
    "plot2.set(ylabel=\"Workday Alcohol Consumption\", xlabel=\"Final Grade\")"
   ]
  },
  {
   "cell_type": "markdown",
   "metadata": {},
   "source": [
    "#### Workday Alchol Consumption과 Weekend Alchol Consumption은 모두 성적이 높을수록 알콜을 적게 섭취한다."
   ]
  },
  {
   "cell_type": "code",
   "execution_count": 14,
   "metadata": {},
   "outputs": [
    {
     "data": {
      "text/plain": [
       "<seaborn.axisgrid.FacetGrid at 0x28a2c06ce08>"
      ]
     },
     "execution_count": 14,
     "metadata": {},
     "output_type": "execute_result"
    },
    {
     "data": {
      "image/png": "[encoded data removed]",
      "text/plain": [
       "<Figure size 360x360 with 1 Axes>"
      ]
     },
     "metadata": {
      "needs_background": "light"
     },
     "output_type": "display_data"
    },
    {
     "data": {
      "image/png": "[encoded data removed]",
      "text/plain": [
       "<Figure size 360x360 with 1 Axes>"
      ]
     },
     "metadata": {
      "needs_background": "light"
     },
     "output_type": "display_data"
    }
   ],
   "source": [
    "plot1 = sns.factorplot(x=\"Walc\", y=\"G3\", data=data)\n",
    "plot1.set(ylabel=\"Final Grade\", xlabel=\"Weekend Alcohol Consumption\") \n",
    "\n",
    "plot2 = sns.factorplot(x=\"Dalc\", y=\"G3\", data=data)\n",
    "plot2.set(ylabel=\"Final Grade\", xlabel=\"Workday Alcohol Consumption\")"
   ]
  },
  {
   "cell_type": "markdown",
   "metadata": {},
   "source": [
    "#### X값과 Y값을 반대로 바꾸어보면 인과관계가 더 명확하게 보인다.\n",
    "*알콜 소비량이 클수록 특히 Weekend Alchol Consumption이 많을수록 성적은 떨어진다."
   ]
  },
  {
   "cell_type": "markdown",
   "metadata": {},
   "source": [
    "#### Final Grade Prediction"
   ]
  },
  {
   "cell_type": "markdown",
   "metadata": {},
   "source": [
    "#### 이제 2개의 regression 모델을 사용해서 final grade를 예측하는 실험을 할 것이다.\n",
    "알고리즘은 decision tree regression, linear regression 두 가지를 사용할 것이며\n",
    "G1,G2,G3는 예측에 사용할 변수들이다. 지수속성에 대한 설명은 다음과 같다.\n",
    "#G1 - first period grade (numeric: from 0 to 20)\n",
    "#G2 - second period grade (numeric: from 0 to 20)\n",
    "#G3 - final grade (numeric: from 0 to 20, output target)"
   ]
  },
  {
   "cell_type": "markdown",
   "metadata": {},
   "source": [
    "#### With G1 and G2 features"
   ]
  },
  {
   "cell_type": "code",
   "execution_count": 15,
   "metadata": {},
   "outputs": [],
   "source": [
    "from sklearn.ensemble import RandomForestClassifier\n",
    "from sklearn.tree import DecisionTreeRegressor\n",
    "from sklearn.linear_model import LinearRegression\n",
    "from sklearn.model_selection import train_test_split"
   ]
  },
  {
   "cell_type": "code",
   "execution_count": 16,
   "metadata": {},
   "outputs": [],
   "source": [
    "y = data['G3']\n",
    "X = data.drop(['G3'], axis=1)"
   ]
  },
  {
   "cell_type": "code",
   "execution_count": 17,
   "metadata": {},
   "outputs": [
    {
     "name": "stdout",
     "output_type": "stream",
     "text": [
      "     age  Medu  Fedu  traveltime  studytime  failures  famrel  freetime  \\\n",
      "0     18     4     4           2          2         0       4         3   \n",
      "1     17     1     1           1          2         0       5         3   \n",
      "2     15     1     1           1          2         0       4         3   \n",
      "3     15     4     2           1          3         0       3         2   \n",
      "4     16     3     3           1          2         0       4         3   \n",
      "..   ...   ...   ...         ...        ...       ...     ...       ...   \n",
      "644   19     2     3           1          3         1       5         4   \n",
      "645   18     3     1           1          2         0       4         3   \n",
      "646   18     1     1           2          2         0       1         1   \n",
      "647   17     3     1           2          1         0       2         4   \n",
      "648   18     3     2           3          1         0       4         4   \n",
      "\n",
      "     goout  Dalc  ...  activities_no  activities_yes  nursery_no  nursery_yes  \\\n",
      "0        4     1  ...              1               0           0            1   \n",
      "1        3     1  ...              1               0           1            0   \n",
      "2        2     2  ...              1               0           0            1   \n",
      "3        2     1  ...              0               1           0            1   \n",
      "4        2     1  ...              1               0           0            1   \n",
      "..     ...   ...  ...            ...             ...         ...          ...   \n",
      "644      2     1  ...              0               1           1            0   \n",
      "645      4     1  ...              1               0           0            1   \n",
      "646      1     1  ...              0               1           0            1   \n",
      "647      5     3  ...              1               0           1            0   \n",
      "648      1     3  ...              1               0           1            0   \n",
      "\n",
      "     higher_no  higher_yes  internet_no  internet_yes  romantic_no  \\\n",
      "0            0           1            1             0            1   \n",
      "1            0           1            0             1            1   \n",
      "2            0           1            0             1            1   \n",
      "3            0           1            0             1            0   \n",
      "4            0           1            1             0            1   \n",
      "..         ...         ...          ...           ...          ...   \n",
      "644          0           1            0             1            1   \n",
      "645          0           1            0             1            1   \n",
      "646          0           1            1             0            1   \n",
      "647          0           1            0             1            1   \n",
      "648          0           1            0             1            1   \n",
      "\n",
      "     romantic_yes  \n",
      "0               0  \n",
      "1               0  \n",
      "2               0  \n",
      "3               1  \n",
      "4               0  \n",
      "..            ...  \n",
      "644             0  \n",
      "645             0  \n",
      "646             0  \n",
      "647             0  \n",
      "648             0  \n",
      "\n",
      "[649 rows x 58 columns]\n"
     ]
    }
   ],
   "source": [
    "X = pd.get_dummies(X)\n",
    "print(X)"
   ]
  },
  {
   "cell_type": "code",
   "execution_count": 18,
   "metadata": {},
   "outputs": [],
   "source": [
    "X_train, X_test, y_train, y_test = train_test_split(X, y, test_size=0.33, random_state=42)"
   ]
  },
  {
   "cell_type": "code",
   "execution_count": 19,
   "metadata": {},
   "outputs": [
    {
     "data": {
      "text/html": [
       "<div>\n",
       "<style scoped>\n",
       "    .dataframe tbody tr th:only-of-type {\n",
       "        vertical-align: middle;\n",
       "    }\n",
       "\n",
       "    .dataframe tbody tr th {\n",
       "        vertical-align: top;\n",
       "    }\n",
       "\n",
       "    .dataframe thead th {\n",
       "        text-align: right;\n",
       "    }\n",
       "</style>\n",
       "<table border=\"1\" class=\"dataframe\">\n",
       "  <thead>\n",
       "    <tr style=\"text-align: right;\">\n",
       "      <th></th>\n",
       "      <th>age</th>\n",
       "      <th>Medu</th>\n",
       "      <th>Fedu</th>\n",
       "      <th>traveltime</th>\n",
       "      <th>studytime</th>\n",
       "      <th>failures</th>\n",
       "      <th>famrel</th>\n",
       "      <th>freetime</th>\n",
       "      <th>goout</th>\n",
       "      <th>Dalc</th>\n",
       "      <th>...</th>\n",
       "      <th>activities_no</th>\n",
       "      <th>activities_yes</th>\n",
       "      <th>nursery_no</th>\n",
       "      <th>nursery_yes</th>\n",
       "      <th>higher_no</th>\n",
       "      <th>higher_yes</th>\n",
       "      <th>internet_no</th>\n",
       "      <th>internet_yes</th>\n",
       "      <th>romantic_no</th>\n",
       "      <th>romantic_yes</th>\n",
       "    </tr>\n",
       "  </thead>\n",
       "  <tbody>\n",
       "    <tr>\n",
       "      <td>521</td>\n",
       "      <td>16</td>\n",
       "      <td>2</td>\n",
       "      <td>3</td>\n",
       "      <td>2</td>\n",
       "      <td>2</td>\n",
       "      <td>0</td>\n",
       "      <td>3</td>\n",
       "      <td>3</td>\n",
       "      <td>3</td>\n",
       "      <td>1</td>\n",
       "      <td>...</td>\n",
       "      <td>0</td>\n",
       "      <td>1</td>\n",
       "      <td>0</td>\n",
       "      <td>1</td>\n",
       "      <td>0</td>\n",
       "      <td>1</td>\n",
       "      <td>0</td>\n",
       "      <td>1</td>\n",
       "      <td>1</td>\n",
       "      <td>0</td>\n",
       "    </tr>\n",
       "    <tr>\n",
       "      <td>178</td>\n",
       "      <td>17</td>\n",
       "      <td>1</td>\n",
       "      <td>1</td>\n",
       "      <td>4</td>\n",
       "      <td>2</td>\n",
       "      <td>0</td>\n",
       "      <td>5</td>\n",
       "      <td>3</td>\n",
       "      <td>5</td>\n",
       "      <td>1</td>\n",
       "      <td>...</td>\n",
       "      <td>0</td>\n",
       "      <td>1</td>\n",
       "      <td>0</td>\n",
       "      <td>1</td>\n",
       "      <td>1</td>\n",
       "      <td>0</td>\n",
       "      <td>1</td>\n",
       "      <td>0</td>\n",
       "      <td>0</td>\n",
       "      <td>1</td>\n",
       "    </tr>\n",
       "    <tr>\n",
       "      <td>260</td>\n",
       "      <td>16</td>\n",
       "      <td>1</td>\n",
       "      <td>2</td>\n",
       "      <td>1</td>\n",
       "      <td>1</td>\n",
       "      <td>0</td>\n",
       "      <td>5</td>\n",
       "      <td>3</td>\n",
       "      <td>5</td>\n",
       "      <td>1</td>\n",
       "      <td>...</td>\n",
       "      <td>1</td>\n",
       "      <td>0</td>\n",
       "      <td>0</td>\n",
       "      <td>1</td>\n",
       "      <td>1</td>\n",
       "      <td>0</td>\n",
       "      <td>0</td>\n",
       "      <td>1</td>\n",
       "      <td>1</td>\n",
       "      <td>0</td>\n",
       "    </tr>\n",
       "    <tr>\n",
       "      <td>153</td>\n",
       "      <td>15</td>\n",
       "      <td>4</td>\n",
       "      <td>4</td>\n",
       "      <td>1</td>\n",
       "      <td>3</td>\n",
       "      <td>0</td>\n",
       "      <td>4</td>\n",
       "      <td>2</td>\n",
       "      <td>2</td>\n",
       "      <td>1</td>\n",
       "      <td>...</td>\n",
       "      <td>0</td>\n",
       "      <td>1</td>\n",
       "      <td>0</td>\n",
       "      <td>1</td>\n",
       "      <td>0</td>\n",
       "      <td>1</td>\n",
       "      <td>0</td>\n",
       "      <td>1</td>\n",
       "      <td>1</td>\n",
       "      <td>0</td>\n",
       "    </tr>\n",
       "    <tr>\n",
       "      <td>75</td>\n",
       "      <td>15</td>\n",
       "      <td>4</td>\n",
       "      <td>3</td>\n",
       "      <td>1</td>\n",
       "      <td>2</td>\n",
       "      <td>0</td>\n",
       "      <td>4</td>\n",
       "      <td>3</td>\n",
       "      <td>3</td>\n",
       "      <td>2</td>\n",
       "      <td>...</td>\n",
       "      <td>0</td>\n",
       "      <td>1</td>\n",
       "      <td>0</td>\n",
       "      <td>1</td>\n",
       "      <td>0</td>\n",
       "      <td>1</td>\n",
       "      <td>0</td>\n",
       "      <td>1</td>\n",
       "      <td>1</td>\n",
       "      <td>0</td>\n",
       "    </tr>\n",
       "  </tbody>\n",
       "</table>\n",
       "<p>5 rows × 58 columns</p>\n",
       "</div>"
      ],
      "text/plain": [
       "     age  Medu  Fedu  traveltime  studytime  failures  famrel  freetime  \\\n",
       "521   16     2     3           2          2         0       3         3   \n",
       "178   17     1     1           4          2         0       5         3   \n",
       "260   16     1     2           1          1         0       5         3   \n",
       "153   15     4     4           1          3         0       4         2   \n",
       "75    15     4     3           1          2         0       4         3   \n",
       "\n",
       "     goout  Dalc  ...  activities_no  activities_yes  nursery_no  nursery_yes  \\\n",
       "521      3     1  ...              0               1           0            1   \n",
       "178      5     1  ...              0               1           0            1   \n",
       "260      5     1  ...              1               0           0            1   \n",
       "153      2     1  ...              0               1           0            1   \n",
       "75       3     2  ...              0               1           0            1   \n",
       "\n",
       "     higher_no  higher_yes  internet_no  internet_yes  romantic_no  \\\n",
       "521          0           1            0             1            1   \n",
       "178          1           0            1             0            0   \n",
       "260          1           0            0             1            1   \n",
       "153          0           1            0             1            1   \n",
       "75           0           1            0             1            1   \n",
       "\n",
       "     romantic_yes  \n",
       "521             0  \n",
       "178             1  \n",
       "260             0  \n",
       "153             0  \n",
       "75              0  \n",
       "\n",
       "[5 rows x 58 columns]"
      ]
     },
     "execution_count": 19,
     "metadata": {},
     "output_type": "execute_result"
    }
   ],
   "source": [
    "X_train.head()"
   ]
  },
  {
   "cell_type": "code",
   "execution_count": 20,
   "metadata": {},
   "outputs": [
    {
     "data": {
      "text/plain": [
       "521    10\n",
       "178     8\n",
       "260    11\n",
       "153    13\n",
       "75     11\n",
       "Name: G3, dtype: int64"
      ]
     },
     "execution_count": 20,
     "metadata": {},
     "output_type": "execute_result"
    }
   ],
   "source": [
    "y_train.head()"
   ]
  },
  {
   "cell_type": "markdown",
   "metadata": {},
   "source": [
    "#### Modeling"
   ]
  },
  {
   "cell_type": "markdown",
   "metadata": {},
   "source": [
    "DecisionTreeRegressor와  LinearRegression 모델을 활용한 모델링 작업"
   ]
  },
  {
   "cell_type": "markdown",
   "metadata": {},
   "source": [
    "DecisionTreeRegressor를 사용한 이유 : 전처리의 필요가 없기 때문이다. 처음 공부하면서 시도하기에 가장 적합하다고 생각되어 선택하였다.\n",
    "반면 과대적합 문제가 심하여 일반화하기 힘들다는 단점이 있다. \n",
    "\n",
    "과대적합 문제를 해결하기 위해 모델을 단순화하는 방법이 있는데, G3의 점수를 A(15to20),B(10to14),C(5to9),F(0to4)으로 단순화하여 이후 진행해볼 계획이다."
   ]
  },
  {
   "cell_type": "markdown",
   "metadata": {},
   "source": [
    "DecisionTreeRegressor"
   ]
  },
  {
   "cell_type": "code",
   "execution_count": 21,
   "metadata": {},
   "outputs": [
    {
     "name": "stdout",
     "output_type": "stream",
     "text": [
      "DecisionTreeRegressor 훈련 세트 정확도: 1.000\n",
      "DecisionTreeRegressor 테스트 세트 정확도: 0.574\n"
     ]
    }
   ],
   "source": [
    "tree = DecisionTreeRegressor(random_state=0)\n",
    "tree.fit(X_train, y_train)\n",
    "\n",
    "print(\"DecisionTreeRegressor 훈련 세트 정확도: {:.3f}\".format(tree.score(X_train, y_train)))\n",
    "print(\"DecisionTreeRegressor 테스트 세트 정확도: {:.3f}\".format(tree.score(X_test, y_test)))"
   ]
  },
  {
   "cell_type": "markdown",
   "metadata": {},
   "source": [
    "RandomForestClassifier"
   ]
  },
  {
   "cell_type": "code",
   "execution_count": 22,
   "metadata": {},
   "outputs": [
    {
     "name": "stdout",
     "output_type": "stream",
     "text": [
      "훈련 세트 정확도 : 1.000\n",
      "테스트 세트 정확도 : 0.405\n"
     ]
    }
   ],
   "source": [
    "forest = RandomForestClassifier(n_estimators=500, random_state=0)\n",
    "forest.fit(X_train,y_train)\n",
    "\n",
    "\n",
    "print(\"훈련 세트 정확도 : {:.3f}\".format(forest.score(X_train,y_train)))\n",
    "print(\"테스트 세트 정확도 : {:.3f}\".format(forest.score(X_test,y_test)))"
   ]
  },
  {
   "cell_type": "markdown",
   "metadata": {},
   "source": [
    "랜덤 포레스트를 사용하면  정확도가 높아질 것이라고 공부한 바 있어서 랜덤포레스트를 사용하였지만 정확도가 더 떨어졌다. 아무래도 희소한 데이터라서 잘 작동하지 않은 것 같다고 판단이 된다."
   ]
  },
  {
   "cell_type": "markdown",
   "metadata": {},
   "source": [
    " LinearRegression"
   ]
  },
  {
   "cell_type": "code",
   "execution_count": 23,
   "metadata": {
    "scrolled": true
   },
   "outputs": [
    {
     "name": "stdout",
     "output_type": "stream",
     "text": [
      "LinearRegression 훈련 세트 정확도: 0.848\n",
      "LinearRegression 테스트 세트 정확도: 0.865\n"
     ]
    }
   ],
   "source": [
    "LR = LinearRegression()\n",
    "LR.fit(X_train, y_train)\n",
    "print(\"LinearRegression 훈련 세트 정확도: {:.3f}\".format(LR.score(X_train, y_train)))\n",
    "print(\"LinearRegression 테스트 세트 정확도: {:.3f}\".format(LR.score(X_test, y_test)))"
   ]
  },
  {
   "cell_type": "markdown",
   "metadata": {},
   "source": [
    "Forecast Tree와 Linear Regression의 예측 정확도를 그래프로 그려보았다."
   ]
  },
  {
   "cell_type": "code",
   "execution_count": 24,
   "metadata": {},
   "outputs": [],
   "source": [
    "# 예측은 전체 G3를 제외한 모든 변수에 대해서 수행한다.\n",
    "pred_tree = tree.predict(X)\n",
    "pred_lr = LR.predict(X)"
   ]
  },
  {
   "cell_type": "code",
   "execution_count": 25,
   "metadata": {},
   "outputs": [
    {
     "data": {
      "text/plain": [
       "<matplotlib.legend.Legend at 0x28a307c8248>"
      ]
     },
     "execution_count": 25,
     "metadata": {},
     "output_type": "execute_result"
    },
    {
     "data": {
      "image/png": "[encoded data removed]",
      "text/plain": [
       "<Figure size 432x288 with 1 Axes>"
      ]
     },
     "metadata": {
      "needs_background": "light"
     },
     "output_type": "display_data"
    }
   ],
   "source": [
    "plt.semilogy(X_train.G1, y_train, label=\"Train Data\")\n",
    "plt.semilogy(X_test.G1, y_test, label=\"Test Data\")\n",
    "plt.semilogy(X.G1, pred_tree, label=\"Forecast Tree\")\n",
    "plt.semilogy(X.G1, pred_lr, label=\"Forecast Linear Regression\")\n",
    "plt.legend()"
   ]
  },
  {
   "cell_type": "markdown",
   "metadata": {},
   "source": [
    "선형관계가 나오기를 기대했으나 너무 많은 변수를 이용하여 예측했기 때문인지 이런 형태의 그래프가 나왔다. 그나마 Forecast Linear Regression보다 Forecast Tree가 Train data에 더 가깝게 예측했음을 알 수 있다."
   ]
  },
  {
   "cell_type": "markdown",
   "metadata": {},
   "source": [
    "#### Feature Importances"
   ]
  },
  {
   "cell_type": "code",
   "execution_count": 26,
   "metadata": {},
   "outputs": [
    {
     "name": "stdout",
     "output_type": "stream",
     "text": [
      "1. Feature G2 (0.823206)\n",
      "2. Feature studytime (0.022337)\n",
      "3. Feature Mjob_other (0.017840)\n",
      "4. Feature Medu (0.015771)\n",
      "5. Feature Fedu (0.014399)\n",
      "6. Feature G1 (0.012755)\n",
      "7. Feature reason_other (0.012643)\n",
      "8. Feature absences (0.012568)\n",
      "9. Feature freetime (0.011123)\n",
      "10. Feature nursery_yes (0.006492)\n",
      "11. Feature goout (0.005440)\n",
      "12. Feature famrel (0.005370)\n",
      "13. Feature traveltime (0.004749)\n",
      "14. Feature age (0.004682)\n",
      "15. Feature Walc (0.003928)\n",
      "16. Feature school_MS (0.002626)\n",
      "17. Feature Dalc (0.002380)\n",
      "18. Feature health (0.002192)\n",
      "19. Feature guardian_other (0.002077)\n",
      "20. Feature reason_reputation (0.002040)\n",
      "21. Feature romantic_yes (0.001996)\n",
      "22. Feature famsize_GT3 (0.001961)\n",
      "23. Feature sex_F (0.001420)\n",
      "24. Feature reason_home (0.001352)\n",
      "25. Feature address_U (0.001207)\n",
      "26. Feature activities_no (0.001027)\n",
      "27. Feature schoolsup_yes (0.000697)\n",
      "28. Feature Fjob_other (0.000669)\n",
      "29. Feature Fjob_at_home (0.000578)\n",
      "30. Feature famsup_yes (0.000511)\n",
      "31. Feature schoolsup_no (0.000414)\n",
      "32. Feature address_R (0.000414)\n",
      "33. Feature internet_yes (0.000409)\n",
      "34. Feature famsize_LE3 (0.000361)\n",
      "35. Feature Mjob_services (0.000340)\n",
      "36. Feature school_GP (0.000339)\n",
      "37. Feature sex_M (0.000316)\n",
      "38. Feature activities_yes (0.000300)\n",
      "39. Feature Pstatus_T (0.000208)\n",
      "40. Feature failures (0.000174)\n",
      "41. Feature guardian_father (0.000167)\n",
      "42. Feature famsup_no (0.000149)\n",
      "43. Feature reason_course (0.000149)\n",
      "44. Feature Mjob_at_home (0.000112)\n",
      "45. Feature guardian_mother (0.000112)\n",
      "46. Feature Fjob_teacher (0.000000)\n",
      "47. Feature internet_no (0.000000)\n",
      "48. Feature higher_yes (0.000000)\n",
      "49. Feature higher_no (0.000000)\n",
      "50. Feature nursery_no (0.000000)\n",
      "51. Feature Pstatus_A (0.000000)\n",
      "52. Feature Fjob_services (0.000000)\n",
      "53. Feature paid_yes (0.000000)\n",
      "54. Feature paid_no (0.000000)\n",
      "55. Feature Mjob_teacher (0.000000)\n",
      "56. Feature romantic_no (0.000000)\n",
      "57. Feature Mjob_health (0.000000)\n",
      "58. Feature Fjob_health (0.000000)\n"
     ]
    }
   ],
   "source": [
    "importances = tree.feature_importances_\n",
    "indices = np.argsort(importances)[::-1]\n",
    "for f in range(X.shape[1]):\n",
    "    print(\"%d. Feature %s (%f)\" % (f + 1, X.columns.values[indices[f]], importances[indices[f]]))"
   ]
  },
  {
   "cell_type": "markdown",
   "metadata": {},
   "source": [
    "#### Plot the feature importances of the forest"
   ]
  },
  {
   "cell_type": "code",
   "execution_count": 27,
   "metadata": {
    "scrolled": false
   },
   "outputs": [
    {
     "data": {
      "image/png": "[encoded data removed]",
      "text/plain": [
       "<Figure size 1440x288 with 1 Axes>"
      ]
     },
     "metadata": {
      "needs_background": "light"
     },
     "output_type": "display_data"
    }
   ],
   "source": [
    "plt.figure(figsize=[20,4])\n",
    "plt.title(\"Feature importances\")\n",
    "plt.bar(range(X.shape[1]), importances[indices],color=\"b\", align=\"center\")\n",
    "plt.xticks(range(X.shape[1]), indices)\n",
    "plt.xlim([-1, X.shape[1]])\n",
    "plt.show()"
   ]
  },
  {
   "cell_type": "markdown",
   "metadata": {},
   "source": [
    "G2, Medu(Mother's education), schoolsup(Extra educational support)_yes순서로 중요한 변수라는 것을 알 수 있다."
   ]
  },
  {
   "cell_type": "markdown",
   "metadata": {},
   "source": [
    "#### Without G1 and G2 features, predict G1 & G2 & G3"
   ]
  },
  {
   "cell_type": "code",
   "execution_count": 28,
   "metadata": {},
   "outputs": [],
   "source": [
    "X2 = data.drop(['G3', 'G2', 'G1'], axis=1)"
   ]
  },
  {
   "cell_type": "code",
   "execution_count": 29,
   "metadata": {},
   "outputs": [],
   "source": [
    "X2 = pd.get_dummies(X2)\n",
    "y2 = data['G1']\n",
    "y3 = data['G2']\n",
    "# y는 이미 G3"
   ]
  },
  {
   "cell_type": "code",
   "execution_count": 30,
   "metadata": {},
   "outputs": [],
   "source": [
    "X_train1, X_test1, y_train1, y_test1 = train_test_split(X2, y2, test_size=0.33, random_state=42) # G1\n",
    "X_train2, X_test2, y_train2, y_test2 = train_test_split(X2, y3, test_size=0.33, random_state=42) # G2\n",
    "X_train3, X_test3, y_train3, y_test3 = train_test_split(X2, y, test_size=0.33, random_state=42) # G3"
   ]
  },
  {
   "cell_type": "markdown",
   "metadata": {},
   "source": [
    "#### G1 & G2 prediction\n",
    "LinearRegression으로 G1, G2도 예측해보았다."
   ]
  },
  {
   "cell_type": "code",
   "execution_count": 31,
   "metadata": {},
   "outputs": [
    {
     "name": "stdout",
     "output_type": "stream",
     "text": [
      "LinearRegression & G1 훈련 세트 정확도: 0.407\n",
      "LinearRegression & G1 테스트 세트 정확도: 0.184\n"
     ]
    }
   ],
   "source": [
    "rg1 = LinearRegression()\n",
    "rg1.fit(X_train1, y_train1)\n",
    "print(\"LinearRegression & G1 훈련 세트 정확도: {:.3f}\".format(rg1.score(X_train1, y_train1)))\n",
    "print(\"LinearRegression & G1 테스트 세트 정확도: {:.3f}\".format(rg1.score(X_test1, y_test1)))"
   ]
  },
  {
   "cell_type": "code",
   "execution_count": 32,
   "metadata": {},
   "outputs": [
    {
     "name": "stdout",
     "output_type": "stream",
     "text": [
      "LinearRegression & G2 훈련 세트 정확도: 0.403\n",
      "LinearRegression & G2 테스트 세트 정확도: 0.161\n"
     ]
    }
   ],
   "source": [
    "rg2 = LinearRegression()\n",
    "rg2.fit(X_train2, y_train2)\n",
    "print(\"LinearRegression & G2 훈련 세트 정확도: {:.3f}\".format(rg2.score(X_train2, y_train2)))\n",
    "print(\"LinearRegression & G2 테스트 세트 정확도: {:.3f}\".format(rg2.score(X_test2, y_test2)))"
   ]
  },
  {
   "cell_type": "markdown",
   "metadata": {},
   "source": [
    "DecisionTreeRegressor과 LinearRegression을 사용한 G3의 예측"
   ]
  },
  {
   "cell_type": "markdown",
   "metadata": {},
   "source": [
    "DecisionTreeRegressor"
   ]
  },
  {
   "cell_type": "code",
   "execution_count": 33,
   "metadata": {},
   "outputs": [
    {
     "name": "stdout",
     "output_type": "stream",
     "text": [
      "DecisionTreeRegressor & G3 훈련 세트 정확도: 1.000\n",
      "DecisionTreeRegressor & G3 테스트 세트 정확도: -0.425\n"
     ]
    }
   ],
   "source": [
    "tree3 = DecisionTreeRegressor(random_state=0)\n",
    "tree3.fit(X_train3, y_train3)\n",
    "print(\"DecisionTreeRegressor & G3 훈련 세트 정확도: {:.3f}\".format(tree3.score(X_train3, y_train3)))\n",
    "print(\"DecisionTreeRegressor & G3 테스트 세트 정확도: {:.3f}\".format(tree3.score(X_test3, y_test3)))"
   ]
  },
  {
   "cell_type": "markdown",
   "metadata": {},
   "source": [
    "LinearRegression"
   ]
  },
  {
   "cell_type": "code",
   "execution_count": 34,
   "metadata": {},
   "outputs": [
    {
     "name": "stdout",
     "output_type": "stream",
     "text": [
      "LinearRegression & G3 훈련 세트 정확도: 0.387\n",
      "LinearRegression & G3 테스트 세트 정확도: 0.220\n"
     ]
    }
   ],
   "source": [
    "LR3 = LinearRegression()\n",
    "fitted_LR3=LR3.fit(X_train3, y_train3)\n",
    "print(\"LinearRegression & G3 훈련 세트 정확도: {:.3f}\".format(LR3.score(X_train3, y_train3)))\n",
    "print(\"LinearRegression & G3 테스트 세트 정확도: {:.3f}\".format(LR3.score(X_test3, y_test3)))"
   ]
  },
  {
   "cell_type": "markdown",
   "metadata": {},
   "source": [
    "과대적합문제가 DecisionTreeRegressor보다 적어서 그런지 테스트 정확도가 LinearRegression모델이 더 높은 것을 볼 수 있다. 훈련 세트의 정확도가 많이 떨어진 것 역시 알 수 있다. 맨 처음 G1, G2를 포함한 정보를 가지고 예측한 것보다 더 예측 정확도가 떨어진 것은 G2라는 가장 영향력 있는 변수가 제외된 채로 예측을 하였기 때문이라고 생각된다."
   ]
  }
 ],
 "metadata": {
  "kernelspec": {
   "display_name": "Python 3",
   "language": "python",
   "name": "python3"
  },
  "language_info": {
   "codemirror_mode": {
    "name": "ipython",
    "version": 3
   },
   "file_extension": ".py",
   "mimetype": "text/x-python",
   "name": "python",
   "nbconvert_exporter": "python",
   "pygments_lexer": "ipython3",
   "version": "3.7.4"
  }
 },
 "nbformat": 4,
 "nbformat_minor": 2
}
